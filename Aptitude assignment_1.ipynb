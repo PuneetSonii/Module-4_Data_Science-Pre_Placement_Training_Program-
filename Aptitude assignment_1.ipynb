{
 "cells": [
  {
   "cell_type": "markdown",
   "metadata": {},
   "source": [
    "`Divisibility`\n",
    "\n",
    "`1`) Which one of the following numbers is divisible by 99?\n",
    "a) 3572404 b) 135792 c) 913464 d) 114345\n",
    "\n",
    "`Ans.` a) 3572404\n",
    "\n",
    "`2)` If n is an integer, what is the remainder when (2n + 2)2\n",
    "is divided by 4?\n",
    "\n",
    "`Ans.` The remainder will be 0.\n",
    "\n",
    "`3)` Find two nearest numbers to 19506 which are divisible by 9?\n",
    "\n",
    "`Ans.` The two nearest numbers to 19506 that are divisible by 9 are 19509 and 19500.\n",
    "\n",
    "`4)` What is the value of M and N respectively if M39048458N is divisible by 8 and 11, where M and N are single digit integers?\n",
    "\n",
    "`Ans.` The value of M is 0, and the value of N is 8.\n",
    "\n",
    "`5)` How many pairs of X and Y are possible in the number 763X4Y2, if the number is divisible by 9?\n",
    "\n",
    "`Ans.` There are no pairs of X and Y that make the number 763X4Y2 divisible by 9.\n",
    "\n",
    "`6)` When the integer n is divided by 8, the remainder is 3. What is the remainder if 6n is divided by 8?\n",
    "\n",
    "`Ans.` The remainder will be 6.\n",
    "\n",
    "`7)` If the product 4864 x 9P2 is divisible by 12, then what is the value of P?\n",
    "\n",
    "`Ans.` The value of P is 8.\n",
    "\n",
    "`8)` If the number 7X86038 is exactly divisible by 11, then the smallest whole number in place of X?\n",
    "\n",
    "`Ans.` The smallest whole number in place of X is 6.\n",
    "\n",
    "`9)` If an integer n is divisible by 3, 5 and 12, what is the next larger integer divisible by all these numbers?\n",
    "a) n2 b) n + 180 c) 2n d) n + 60\n",
    "\n",
    "`Ans.` The next larger integer divisible by 3, 5, and 12 is option b) n + 180.\n",
    "\n",
    "`10)` What is the product of the largest and the smallest possible values of M for which a number 5M83M4M1 is divisible by 9?\n",
    "\n",
    "`Ans.` The product of the largest and smallest possible values of M is 0."
   ]
  },
  {
   "cell_type": "markdown",
   "metadata": {},
   "source": []
  }
 ],
 "metadata": {
  "language_info": {
   "name": "python"
  },
  "orig_nbformat": 4
 },
 "nbformat": 4,
 "nbformat_minor": 2
}
