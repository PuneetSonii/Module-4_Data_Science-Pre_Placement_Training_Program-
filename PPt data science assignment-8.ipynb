{
 "cells": [
  {
   "cell_type": "markdown",
   "metadata": {},
   "source": [
    "## **`PPT data science assignment-8`**"
   ]
  },
  {
   "cell_type": "markdown",
   "metadata": {},
   "source": [
    "### 1. Choose a project from an internship portal and try to write a HLD and LLD based on the sample given in your portal for a respective project.\n",
    "\n",
    "#### **`High-Level Design (HLD):`**\n",
    "\n",
    "1. `System Overview`:\n",
    "* The credit default prediction system aims to predict the probability of credit default \n",
    "based on credit card owner's characteristics and payment history.\n",
    "\n",
    "2. `System Components:`\n",
    "* `Data Collection`: Gather credit card owner's data, including characteristics and payment \n",
    "history.\n",
    "* `Data Preprocessing:` Perform data cleaning, feature engineering, and data \n",
    "transformation tasks to prepare the data for analysis.\n",
    "* `Feature Selection:` Identify relevant features for credit default prediction.\n",
    "* `Model Building:` Train and evaluate different machine learning algorithms to find the \n",
    "best model for prediction.\n",
    "* `Model Deployment:` Host the trained model on a suitable platform for real-time credit \n",
    "default prediction.\n",
    "* `User Interface:` Develop a user-friendly interface to input customer information and receive credit default predictions.\n",
    "\n",
    "3. `System Workflow:`\n",
    "* `Data Collection`: Retrieve credit card owner's data from relevant sources (e.g., \n",
    "databases, APIs).\n",
    "* `Data Preprocessing:` Clean the data by handling missing values, outliers, and data \n",
    "inconsistencies. Perform feature engineering tasks, such as creating new features or\n",
    "transforming existing ones.\n",
    "* `Feature Selection`: Use statistical analysis or machine learning techniques to select the \n",
    "most informative features for credit default prediction.\n",
    "* `Model Building`: Train and evaluate multiple machine learning models, such as logistic \n",
    "regression, decision trees, random forests, or gradient boosting, using suitable \n",
    "evaluation metrics (e.g., accuracy, precision, recall).\n",
    "* `Model Deployment`: Host the selected model on a cloud platform (e.g., AWS, Azure, \n",
    "Google Cloud) or edge device, ensuring scalability, availability, and security.\n",
    "* `User Interface:` Develop a web-based or application-based interface to collect user \n",
    "inputs (credit card owner's characteristics and payment history) and display credit \n",
    "default predictions.\n",
    "\n",
    "#### **`Low-Level Design (LLD):`**\n",
    "1. `Data Preprocessing:`\n",
    "* `Handle missing values`: Impute missing values using techniques like mean, median, or \n",
    "advanced imputation methods.\n",
    "* `Outlier detection:` Identify and handle outliers using statistical methods or anomaly \n",
    "detection algorithms.\n",
    "* `Data normalization/standardization:` Scale numerical features to a common range.\n",
    "* `Categorical variable encoding:` Encode categorical variables using techniques like one-hot encoding or label encoding.\n",
    "* `Feature engineering:` Create new features from existing ones or transform features based on domain knowledge.\n",
    "\n",
    "2. `Model Building:`\n",
    "* `Split dataset`: Divide the dataset into training and testing sets.\n",
    "* `Model selection:` Implement and evaluate various machine learning algorithms suitable \n",
    "for classification tasks.\n",
    "* `Hyperparameter tuning:` Optimize model performance by tuning hyperparameters using \n",
    "techniques like grid search or random search.\n",
    "* `Model evaluation:` Assess model performance using appropriate evaluation metrics like \n",
    "accuracy, precision, recall, F1-score, and ROC-AUC.\n",
    "\n",
    "3. `Model Deployment`:\n",
    "* `Export trained model`: Save the trained model in a serialized format for deployment.\n",
    "* `Model serving`: Deploy the model on a suitable platform, considering factors like scalability, latency, and resource requirements.\n",
    "* `API development`: Expose the model as an API endpoint to accept credit card owner's data and return credit default predictions.\n",
    "* `Integration with user interface:` Connect the user interface with the model API for real-time prediction.\n",
    "\n",
    "4. `User Interface:`\n",
    "* Design and develop an intuitive user interface to collect credit card owner's characteristics and payment history.\n",
    "* Validate and sanitize user inputs to ensure data integrity and security.\n",
    "* Communicate with the model API to send user inputs and receive credit default predictions.\n",
    "* Display prediction results to the user in a clear and understandable format"
   ]
  }
 ],
 "metadata": {
  "kernelspec": {
   "display_name": "Python 3",
   "language": "python",
   "name": "python3"
  },
  "language_info": {
   "name": "python",
   "version": "3.11.3"
  },
  "orig_nbformat": 4
 },
 "nbformat": 4,
 "nbformat_minor": 2
}
